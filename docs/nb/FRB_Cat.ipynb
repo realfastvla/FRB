{
 "cells": [
  {
   "cell_type": "markdown",
   "metadata": {},
   "source": [
    "# Reading FRB Cat [v1.2]\n",
    "    v1.2 -- Update in 2018"
   ]
  },
  {
   "cell_type": "code",
   "execution_count": 53,
   "metadata": {},
   "outputs": [],
   "source": [
    "# imports\n",
    "from imp import reload\n",
    "import numpy as np\n",
    "from matplotlib import pyplot as plt\n",
    "\n",
    "from astropy.table import Table\n",
    "from astropy.time import Time\n",
    "\n",
    "from frb import frbcat as ffcat\n",
    "from frb import experiment"
   ]
  },
  {
   "cell_type": "markdown",
   "metadata": {},
   "source": [
    "## Load with 2018 format"
   ]
  },
  {
   "cell_type": "code",
   "execution_count": 45,
   "metadata": {},
   "outputs": [
    {
     "name": "stdout",
     "output_type": "stream",
     "text": [
      "Using /home/xavier/Projects/FRB/frb/data/FRBs/frbcat_2018-11-07.csv for the FRB catalog\n"
     ]
    }
   ],
   "source": [
    "reload(ffcat)\n",
    "obs = ffcat.FRBCat()"
   ]
  },
  {
   "cell_type": "code",
   "execution_count": 46,
   "metadata": {},
   "outputs": [
    {
     "data": {
      "text/html": [
       "<i>Table length=5</i>\n",
       "<table id=\"table140234088586432\" class=\"table-striped table-bordered table-condensed\">\n",
       "<thead><tr><th>frb_name</th><th>utc</th><th>telescope</th><th>rop_raj</th><th>rop_decj</th><th>rop_gl</th><th>rop_gb</th><th>rmp_dm</th><th>rmp_width</th><th>rmp_snr</th><th>RA</th><th>DEC</th></tr></thead>\n",
       "<thead><tr><th>str11</th><th>str23</th><th>str7</th><th>str11</th><th>str11</th><th>float64</th><th>float64</th><th>str18</th><th>float64</th><th>float64</th><th>float64</th><th>float64</th></tr></thead>\n",
       "<tr><td>FRB110214</td><td>2011-02-14 07:14:10.353</td><td>parkes</td><td>01:21:17</td><td>-49:47:11</td><td>290.7</td><td>-66.6</td><td>168.9&amp;plusmn0.5</td><td>1.9</td><td>13.0</td><td>20.351647596049716</td><td>-49.81046938710202</td></tr>\n",
       "<tr><td>FRB090625</td><td>2009-06-25 21:53:51.379</td><td>parkes</td><td>03:07:47</td><td>-29:55:36</td><td>226.444</td><td>-60.0303</td><td>899.55&amp;plusmn0.01</td><td>1.92</td><td>30.0</td><td>46.94584178165078</td><td>-29.92670986660156</td></tr>\n",
       "<tr><td>FRB010724</td><td>2001-07-24 19:50:01.690</td><td>parkes</td><td>01:18:06</td><td>-75:12:18</td><td>300.653</td><td>-41.8051</td><td>375</td><td>5.0</td><td>23.0</td><td>19.525065904947255</td><td>-75.20496347123685</td></tr>\n",
       "<tr><td>FRB010621</td><td>2001-06-21 13:02:11.299</td><td>parkes</td><td>18:52:05</td><td>-08:29:35</td><td>25.434</td><td>-4.00381</td><td>745&amp;plusmn10</td><td>7.0</td><td>16.3</td><td>283.0208291465951</td><td>-8.493049586958135</td></tr>\n",
       "<tr><td>FRB010125</td><td>2001-01-25 00:29:15.790</td><td>parkes</td><td>19:06:53</td><td>-40:37:14</td><td>356.641</td><td>-20.0206</td><td>790&amp;plusmn3</td><td>9.4</td><td>17.0</td><td>286.72072305094264</td><td>-40.62064517309942</td></tr>\n",
       "</table>"
      ],
      "text/plain": [
       "<Table length=5>\n",
       " frb_name           utc           ...         RA                DEC        \n",
       "  str11            str23          ...      float64            float64      \n",
       "--------- ----------------------- ... ------------------ ------------------\n",
       "FRB110214 2011-02-14 07:14:10.353 ... 20.351647596049716 -49.81046938710202\n",
       "FRB090625 2009-06-25 21:53:51.379 ...  46.94584178165078 -29.92670986660156\n",
       "FRB010724 2001-07-24 19:50:01.690 ... 19.525065904947255 -75.20496347123685\n",
       "FRB010621 2001-06-21 13:02:11.299 ...  283.0208291465951 -8.493049586958135\n",
       "FRB010125 2001-01-25 00:29:15.790 ... 286.72072305094264 -40.62064517309942"
      ]
     },
     "execution_count": 46,
     "metadata": {},
     "output_type": "execute_result"
    }
   ],
   "source": [
    "obs.frbcat[-5:]"
   ]
  },
  {
   "cell_type": "markdown",
   "metadata": {},
   "source": [
    "### Simple histogram"
   ]
  },
  {
   "cell_type": "code",
   "execution_count": 49,
   "metadata": {},
   "outputs": [],
   "source": [
    "times = Time(obs.frbcat['utc'])"
   ]
  },
  {
   "cell_type": "code",
   "execution_count": 50,
   "metadata": {},
   "outputs": [
    {
     "data": {
      "text/plain": [
       "array([2018.395998  , 2018.22559088, 2018.20044398, 2018.1176992 ,\n",
       "       2018.0827916 , 2018.0799595 , 2018.0744799 , 2018.07403537,\n",
       "       2018.05069716, 2018.02550495, 2017.95824622, 2017.94962103,\n",
       "       2017.87576917, 2017.80133086, 2017.79893275, 2017.75671848,\n",
       "       2017.7540638 , 2017.68116766, 2017.65415678, 2017.5278772 ,\n",
       "       2017.51338043, 2017.3230713 , 2017.29080389, 2017.01940287,\n",
       "       2016.43439238, 2016.27339277, 2016.20773559, 2016.00233603,\n",
       "       2015.9950106 , 2015.92816541, 2015.59820886, 2015.43799336,\n",
       "       2015.29277723, 2015.12487964, 2014.86604099, 2014.36610043,\n",
       "       2013.843266  , 2013.57392549, 2013.48847441, 2013.48424975,\n",
       "       2012.83716611, 2012.75304074, 2012.07074941, 2011.50250908,\n",
       "       2011.48363619, 2011.38981354, 2011.13642825, 2011.12060646,\n",
       "       2009.48230637, 2001.56146861, 2001.47034411, 2001.06644852])"
      ]
     },
     "execution_count": 50,
     "metadata": {},
     "output_type": "execute_result"
    }
   ],
   "source": [
    "times.jyear"
   ]
  },
  {
   "cell_type": "code",
   "execution_count": 55,
   "metadata": {},
   "outputs": [
    {
     "data": {
      "text/plain": [
       "array([2001, 2002, 2003, 2004, 2005, 2006, 2007, 2008, 2009, 2010, 2011,\n",
       "       2012, 2013, 2014, 2015, 2016, 2017, 2018, 2019])"
      ]
     },
     "execution_count": 55,
     "metadata": {},
     "output_type": "execute_result"
    }
   ],
   "source": [
    "bins = np.arange(2001, 2020,1)\n",
    "bins"
   ]
  },
  {
   "cell_type": "code",
   "execution_count": 60,
   "metadata": {},
   "outputs": [
    {
     "data": {
      "image/png": "[encoded data removed]",
      "text/plain": [
       "<matplotlib.figure.Figure at 0x7f8acaf28128>"
      ]
     },
     "metadata": {},
     "output_type": "display_data"
    }
   ],
   "source": [
    "plt.clf()\n",
    "ax = plt.gca()\n",
    "ax.hist(times.jyear, bins=bins)\n",
    "#\n",
    "plt.show()"
   ]
  },
  {
   "cell_type": "markdown",
   "metadata": {},
   "source": [
    "## Load an old one"
   ]
  },
  {
   "cell_type": "code",
   "execution_count": 3,
   "metadata": {},
   "outputs": [
    {
     "name": "stdout",
     "output_type": "stream",
     "text": [
      "Using /home/xavier/Projects/FRB/frb/data/FRBs/frbcat_2017-04-06.csv for the FRB catalog\n"
     ]
    },
    {
     "data": {
      "text/plain": [
       "<FRBCat:  FRB Catalog with 21 sources\n",
       ">"
      ]
     },
     "execution_count": 3,
     "metadata": {},
     "output_type": "execute_result"
    }
   ],
   "source": [
    "reload(ffcat)\n",
    "obs = ffcat.FRBCat(frbcat_file='frbcat_2017-04-06.csv')\n",
    "obs"
   ]
  },
  {
   "cell_type": "code",
   "execution_count": 4,
   "metadata": {},
   "outputs": [
    {
     "data": {
      "text/html": [
       "<i>Table masked=True length=5</i>\n",
       "<table id=\"table140234151201200\" class=\"table-striped table-bordered table-condensed\">\n",
       "<thead><tr><th>Name</th><th>Telescope</th><th>Type</th><th>UTC</th><th>Beam</th><th>Receiver</th><th>Backend</th><th>RAJ</th><th>DECJ</th><th>Pointing Error</th><th>FWHM</th><th>Sampling Time</th><th>Bandwidth</th><th>Centre Frequnecy</th><th>Bits per Sample</th><th>Gain</th><th>System Temperature</th><th>NE2001 DM Limit</th><th>DM</th><th>DM error</th><th>SNR</th><th>Width</th><th>Width error lower</th><th>Width error upper</th><th>Flux</th><th>Flux error lower</th><th>Flux error upper</th><th>DM Index</th><th>DM Index Error</th><th>Scattering Index</th><th>Scattering Index Error</th><th>Scattering Time</th><th>Scattering Time Error</th><th>Linear Polarization Fraction</th><th>Linear Polarization Fraction Error</th><th>Circular Polarization Fraction</th><th>Circular Polarization Fraction Error</th><th>Photometric Redshift</th><th>Photometric Redshift Error</th><th>Spectroscopic Redshift</th><th>Spectroscopic Redshift Error</th><th>Reference</th><th>RA</th><th>DEC</th></tr></thead>\n",
       "<thead><tr><th>str9</th><th>str7</th><th>str5</th><th>str19</th><th>int64</th><th>str6</th><th>str18</th><th>str8</th><th>str9</th><th>int64</th><th>float64</th><th>float64</th><th>float64</th><th>int64</th><th>int64</th><th>float64</th><th>float64</th><th>float64</th><th>float64</th><th>float64</th><th>float64</th><th>float64</th><th>float64</th><th>float64</th><th>float64</th><th>float64</th><th>float64</th><th>float64</th><th>float64</th><th>float64</th><th>float64</th><th>float64</th><th>float64</th><th>float64</th><th>float64</th><th>int64</th><th>float64</th><th>float64</th><th>float64</th><th>float64</th><th>float64</th><th>str97</th><th>float64</th><th>float64</th></tr></thead>\n",
       "<tr><td>FRB010125</td><td>parkes</td><td>radio</td><td>2001-01-25 00:29:14</td><td>5</td><td>MB20</td><td>AFB</td><td>19:06:53</td><td>-40:37:14</td><td>11</td><td>15.0</td><td>0.125</td><td>288.0</td><td>--</td><td>1</td><td>0.69</td><td>28.0</td><td>110.0</td><td>790.0</td><td>3.0</td><td>17.0</td><td>9.4</td><td>0.2</td><td>0.2</td><td>0.3</td><td>--</td><td>--</td><td>2.0</td><td>0.01</td><td>-4.2</td><td>1.2</td><td>--</td><td>--</td><td>--</td><td>--</td><td>--</td><td>--</td><td>--</td><td>--</td><td>--</td><td>--</td><td>Burke-Spolaor S., Bannister K. W., 2014, ApJ, 792, 19</td><td>286.7208333333333</td><td>-40.620555555555555</td></tr>\n",
       "<tr><td>FRB010125</td><td>parkes</td><td>radio</td><td>2001-01-25 00:29:14</td><td>5</td><td>MB20</td><td>AFB</td><td>19:06:53</td><td>-40:37:14</td><td>11</td><td>15.0</td><td>0.125</td><td>288.0</td><td>--</td><td>1</td><td>0.69</td><td>28.0</td><td>110.0</td><td>790.3</td><td>3.0</td><td>25.0</td><td>10.6</td><td>2.5</td><td>2.8</td><td>0.54</td><td>0.07</td><td>0.11</td><td>--</td><td>--</td><td>--</td><td>--</td><td>--</td><td>--</td><td>--</td><td>--</td><td>--</td><td>--</td><td>--</td><td>--</td><td>--</td><td>--</td><td>Burke-Spolaor S., Bannister K. W., 2014, ApJ, 792, 19</td><td>286.7208333333333</td><td>-40.620555555555555</td></tr>\n",
       "<tr><td>FRB010621</td><td>parkes</td><td>radio</td><td>2001-06-21 13:02:09</td><td>10</td><td>MB20</td><td>AFB</td><td>18:52:05</td><td>-08:29:35</td><td>11</td><td>15.0</td><td>0.25</td><td>288.0</td><td>--</td><td>1</td><td>0.581</td><td>28.0</td><td>523.0</td><td>748.0</td><td>3.0</td><td>18.0</td><td>8.0</td><td>2.25</td><td>4.0</td><td>0.53</td><td>0.09</td><td>0.26</td><td>--</td><td>--</td><td>--</td><td>--</td><td>--</td><td>--</td><td>--</td><td>--</td><td>--</td><td>--</td><td>--</td><td>--</td><td>--</td><td>--</td><td>Keane E. F., Kramer M., Lyne A. G., Stappers B. W., McLaughlin M. A., 2011, MNRAS, 415, 3065</td><td>283.0208333333333</td><td>-8.493055555555555</td></tr>\n",
       "<tr><td>FRB010621</td><td>parkes</td><td>radio</td><td>2001-06-21 13:02:09</td><td>10</td><td>MB20</td><td>AFB</td><td>18:52:05</td><td>-08:29:35</td><td>11</td><td>15.0</td><td>0.25</td><td>288.0</td><td>--</td><td>1</td><td>0.581</td><td>28.0</td><td>523.0</td><td>745.0</td><td>10.0</td><td>--</td><td>7.0</td><td>--</td><td>--</td><td>0.41</td><td>--</td><td>--</td><td>2.02</td><td>0.01</td><td>--</td><td>--</td><td>--</td><td>--</td><td>--</td><td>--</td><td>--</td><td>--</td><td>--</td><td>--</td><td>--</td><td>--</td><td>Keane E. F., Kramer M., Lyne A. G., Stappers B. W., McLaughlin M. A., 2011, MNRAS, 415, 3065</td><td>283.0208333333333</td><td>-8.493055555555555</td></tr>\n",
       "<tr><td>FRB010724</td><td>parkes</td><td>radio</td><td>2001-07-24 19:50:00</td><td>6</td><td>MB20</td><td>AFB</td><td>01:18:06</td><td>-75:12:18</td><td>11</td><td>15.0</td><td>1.0</td><td>288.0</td><td>--</td><td>1</td><td>0.69</td><td>28.0</td><td>44.58</td><td>375.0</td><td>3.0</td><td>100.0</td><td>20.0</td><td>0.0</td><td>0.0</td><td>1.574</td><td>0.0</td><td>0.0</td><td>--</td><td>--</td><td>--</td><td>--</td><td>--</td><td>--</td><td>--</td><td>--</td><td>--</td><td>--</td><td>--</td><td>--</td><td>--</td><td>--</td><td>Lorimer D. R., Bailes M., McLaughlin M. A., Narkevic, D. J., Crawford F., 2007, Science, 318, 777</td><td>19.525</td><td>-75.205</td></tr>\n",
       "</table>"
      ],
      "text/plain": [
       "<Table masked=True length=5>\n",
       "   Name   Telescope  Type ...         RA                DEC        \n",
       "   str9      str7    str5 ...      float64            float64      \n",
       "--------- --------- ----- ... ----------------- -------------------\n",
       "FRB010125    parkes radio ... 286.7208333333333 -40.620555555555555\n",
       "FRB010125    parkes radio ... 286.7208333333333 -40.620555555555555\n",
       "FRB010621    parkes radio ... 283.0208333333333  -8.493055555555555\n",
       "FRB010621    parkes radio ... 283.0208333333333  -8.493055555555555\n",
       "FRB010724    parkes radio ...            19.525             -75.205"
      ]
     },
     "execution_count": 4,
     "metadata": {},
     "output_type": "execute_result"
    }
   ],
   "source": [
    "obs.frbcat[0:5]"
   ]
  },
  {
   "cell_type": "markdown",
   "metadata": {
    "collapsed": true
   },
   "source": [
    "----"
   ]
  },
  {
   "cell_type": "code",
   "execution_count": 7,
   "metadata": {},
   "outputs": [],
   "source": [
    "from astropy.coordinates import SkyCoord"
   ]
  },
  {
   "cell_type": "code",
   "execution_count": 9,
   "metadata": {},
   "outputs": [],
   "source": [
    "c = SkyCoord(b=23.2, l=232.2, frame='galactic', unit='deg')"
   ]
  },
  {
   "cell_type": "code",
   "execution_count": 10,
   "metadata": {},
   "outputs": [
    {
     "data": {
      "text/plain": [
       "<SkyCoord (Galactic): (l, b) in deg\n",
       "    (232.2, 23.2)>"
      ]
     },
     "execution_count": 10,
     "metadata": {},
     "output_type": "execute_result"
    }
   ],
   "source": [
    "c"
   ]
  },
  {
   "cell_type": "code",
   "execution_count": null,
   "metadata": {},
   "outputs": [],
   "source": []
  }
 ],
 "metadata": {
  "kernelspec": {
   "display_name": "Python 3",
   "language": "python",
   "name": "python3"
  },
  "language_info": {
   "codemirror_mode": {
    "name": "ipython",
    "version": 3
   },
   "file_extension": ".py",
   "mimetype": "text/x-python",
   "name": "python",
   "nbconvert_exporter": "python",
   "pygments_lexer": "ipython3",
   "version": "3.6.3"
  }
 },
 "nbformat": 4,
 "nbformat_minor": 2
}
