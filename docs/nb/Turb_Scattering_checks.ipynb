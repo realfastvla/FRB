{
 "cells": [
  {
   "cell_type": "markdown",
   "metadata": {},
   "source": [
    "# Checking the Turbulent Scattering code"
   ]
  },
  {
   "cell_type": "code",
   "execution_count": 2,
   "metadata": {
    "collapsed": true
   },
   "outputs": [],
   "source": [
    "# imports\n",
    "from astropy import units as u\n",
    "from astropy.cosmology import Planck15 as cosmo\n",
    "from astropy import constants as const\n",
    "\n",
    "from frb.turb_scattering import Turbulence"
   ]
  },
  {
   "cell_type": "markdown",
   "metadata": {},
   "source": [
    "## Temporal Smearing\n",
    "    Checking against  Macquart & Koay 2013, ApJ, 776, 125"
   ]
  },
  {
   "cell_type": "code",
   "execution_count": 3,
   "metadata": {
    "collapsed": true
   },
   "outputs": [],
   "source": [
    "###\n",
    "def tm13(zL, zS, lobs, l0, SM):\n",
    "    # Cosmology\n",
    "    D_S = cosmo.angular_diameter_distance(zS)\n",
    "    D_L = cosmo.angular_diameter_distance(zL)\n",
    "    D_LS = cosmo.angular_diameter_distance_z1z2(zL, zS)\n",
    "    # Deff\n",
    "    Deff = D_L*D_LS/D_S\n",
    "    # SMeff\n",
    "    SMeff = SM/(1+zL)**2\n",
    "    # Finish\n",
    "    tau = (Deff/(1*u.Gpc)) * (SMeff/(1e12 * u.m**(-17/3))) * 4.1e-5 * (lobs.to('m').value)**4 * (\n",
    "        l0/(1*u.AU))**(1/3) * u.s / (1+zL)\n",
    "    # Return\n",
    "    return tau.to('ms')"
   ]
  },
  {
   "cell_type": "code",
   "execution_count": 4,
   "metadata": {
    "collapsed": true
   },
   "outputs": [],
   "source": [
    "def Deff(zL,zS):\n",
    "    # Cosmology\n",
    "    D_S = cosmo.angular_diameter_distance(zS)\n",
    "    D_L = cosmo.angular_diameter_distance(zL)\n",
    "    D_LS = cosmo.angular_diameter_distance_z1z2(zL, zS)\n",
    "    # Deff\n",
    "    Deff = D_L*D_LS/D_S\n",
    "    return Deff"
   ]
  },
  {
   "cell_type": "code",
   "execution_count": 5,
   "metadata": {},
   "outputs": [
    {
     "name": "stdout",
     "output_type": "stream",
     "text": [
      "0.8121973177567992 Gpc\n"
     ]
    }
   ],
   "source": [
    "print(Deff(1., 3.).to('Gpc'))"
   ]
  },
  {
   "cell_type": "markdown",
   "metadata": {},
   "source": [
    "### Test case"
   ]
  },
  {
   "cell_type": "code",
   "execution_count": 6,
   "metadata": {},
   "outputs": [
    {
     "data": {
      "text/latex": [
       "$9.9930819 \\; \\mathrm{cm}$"
      ],
      "text/plain": [
       "<Quantity 9.993081933333334 cm>"
      ]
     },
     "execution_count": 6,
     "metadata": {},
     "output_type": "execute_result"
    }
   ],
   "source": [
    "lobs = const.c / (3e9 * u.Hz)\n",
    "lobs.to('cm')"
   ]
  },
  {
   "cell_type": "code",
   "execution_count": 7,
   "metadata": {
    "collapsed": true
   },
   "outputs": [],
   "source": [
    "l0 = 1*u.AU\n",
    "L0 = 0.001 * u.pc\n",
    "ne = 4e-3 / u.cm**3 # From Marcel\n",
    "DL = 1 * u.kpc\n",
    "zL = 1.\n",
    "zsource = 2."
   ]
  },
  {
   "cell_type": "code",
   "execution_count": 8,
   "metadata": {},
   "outputs": [
    {
     "name": "stdout",
     "output_type": "stream",
     "text": [
      "Set SM=8886751434625514.0 1 / m(17/3)\n",
      "In the regime rdiff < l_0\n"
     ]
    }
   ],
   "source": [
    "turb = Turbulence(ne, l0, L0, zL, DL=DL, lobs=lobs)"
   ]
  },
  {
   "cell_type": "code",
   "execution_count": 9,
   "metadata": {},
   "outputs": [
    {
     "data": {
      "text/latex": [
       "$2.2216879 \\times 10^{15} \\; \\mathrm{\\frac{1}{m^{17/3}}}$"
      ],
      "text/plain": [
       "<Quantity 2221687858656378.5 1 / m(17/3)>"
      ]
     },
     "execution_count": 9,
     "metadata": {},
     "output_type": "execute_result"
    }
   ],
   "source": [
    "turb.SMeff"
   ]
  },
  {
   "cell_type": "code",
   "execution_count": 10,
   "metadata": {},
   "outputs": [
    {
     "name": "stdout",
     "output_type": "stream",
     "text": [
      "D_LS=638.5444573053588 Mpc, D_S=1770.5129295271972 Mpc\n"
     ]
    },
    {
     "data": {
      "text/latex": [
       "$0.0038650936 \\; \\mathrm{ms}$"
      ],
      "text/plain": [
       "<Quantity 0.0038650935723106104 ms>"
      ]
     },
     "execution_count": 10,
     "metadata": {},
     "output_type": "execute_result"
    }
   ],
   "source": [
    "turb.temporal_smearing(lobs, zsource)"
   ]
  },
  {
   "cell_type": "code",
   "execution_count": 11,
   "metadata": {},
   "outputs": [
    {
     "data": {
      "text/latex": [
       "$0.0027541777 \\; \\mathrm{ms}$"
      ],
      "text/plain": [
       "<Quantity 0.0027541777255193087 ms>"
      ]
     },
     "execution_count": 11,
     "metadata": {},
     "output_type": "execute_result"
    }
   ],
   "source": [
    "## MK 13\n",
    "tm13(zL, 2., lobs, l0, 2.2e15 * (1+zL)**2 * u.m**(-17/3))"
   ]
  },
  {
   "cell_type": "markdown",
   "metadata": {},
   "source": [
    "----"
   ]
  },
  {
   "cell_type": "markdown",
   "metadata": {},
   "source": [
    "### Marcel"
   ]
  },
  {
   "cell_type": "code",
   "execution_count": 12,
   "metadata": {},
   "outputs": [
    {
     "name": "stdout",
     "output_type": "stream",
     "text": [
      "Set SM=5.554219646640944e+16 1 / m(17/3)\n",
      "In the regime rdiff < l_0\n",
      "D_LS=778.4726178685872 Mpc, D_S=1627.4489720349661 Mpc\n"
     ]
    },
    {
     "data": {
      "text/latex": [
       "$321.28183 \\; \\mathrm{ms}$"
      ],
      "text/plain": [
       "<Quantity 321.28182716148365 ms>"
      ]
     },
     "execution_count": 12,
     "metadata": {},
     "output_type": "execute_result"
    }
   ],
   "source": [
    "l0 = 1*u.AU\n",
    "L0 = 0.001 * u.pc\n",
    "ne = 1e-2 / u.cm**3\n",
    "DL = 1 * u.kpc\n",
    "zL = 1.0\n",
    "\n",
    "lobs = 1*u.m # i.e., 0.3 GHz\n",
    "zsource = 3.0\n",
    "\n",
    "turb = Turbulence(ne, l0, L0, zL)\n",
    "turb.set_SM_obj(DL)\n",
    "turb.set_rdiff(lobs)\n",
    "turb.temporal_smearing(lobs,zsource)"
   ]
  },
  {
   "cell_type": "code",
   "execution_count": 13,
   "metadata": {},
   "outputs": [
    {
     "data": {
      "text/latex": [
       "$5.5542196 \\times 10^{16} \\; \\mathrm{\\frac{1}{m^{17/3}}}$"
      ],
      "text/plain": [
       "<Quantity 5.554219646640944e+16 1 / m(17/3)>"
      ]
     },
     "execution_count": 13,
     "metadata": {},
     "output_type": "execute_result"
    }
   ],
   "source": [
    "turb.SM"
   ]
  },
  {
   "cell_type": "code",
   "execution_count": 14,
   "metadata": {},
   "outputs": [
    {
     "data": {
      "text/latex": [
       "$228.93812 \\; \\mathrm{ms}$"
      ],
      "text/plain": [
       "<Quantity 228.9381189426977 ms>"
      ]
     },
     "execution_count": 14,
     "metadata": {},
     "output_type": "execute_result"
    }
   ],
   "source": [
    "tm13(zL, zsource, lobs, l0, 5.5e16 * u.m**(-17/3)) "
   ]
  },
  {
   "cell_type": "code",
   "execution_count": 15,
   "metadata": {},
   "outputs": [
    {
     "data": {
      "text/plain": [
       "281.875"
      ]
     },
     "execution_count": 15,
     "metadata": {},
     "output_type": "execute_result"
    }
   ],
   "source": [
    "4.1e-5 / 2. * 1e3 * (5.5e4/(1+zL)**2)"
   ]
  }
 ],
 "metadata": {
  "kernelspec": {
   "display_name": "Python 3",
   "language": "python",
   "name": "python3"
  },
  "language_info": {
   "codemirror_mode": {
    "name": "ipython",
    "version": 3
   },
   "file_extension": ".py",
   "mimetype": "text/x-python",
   "name": "python",
   "nbconvert_exporter": "python",
   "pygments_lexer": "ipython3",
   "version": "3.6.1"
  }
 },
 "nbformat": 4,
 "nbformat_minor": 2
}
