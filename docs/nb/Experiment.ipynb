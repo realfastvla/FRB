{
 "cells": [
  {
   "cell_type": "markdown",
   "metadata": {},
   "source": [
    "# Experiment Class [v1.0]"
   ]
  },
  {
   "cell_type": "code",
   "execution_count": 35,
   "metadata": {
    "collapsed": true
   },
   "outputs": [],
   "source": [
    "# imports\n",
    "from imp import reload\n",
    "import numpy as np\n",
    "\n",
    "from astropy import units as u\n",
    "\n",
    "from frb import experiment as fexp\n",
    "from frb.frb import FRB"
   ]
  },
  {
   "cell_type": "markdown",
   "metadata": {},
   "source": [
    "## Instantitate"
   ]
  },
  {
   "cell_type": "code",
   "execution_count": 15,
   "metadata": {
    "collapsed": false
   },
   "outputs": [
    {
     "data": {
      "text/plain": [
       "<Experiment: name=CHIME data={'Name': 'CHIME', 'CreationDate': '2017-May-28', 'Channels': 16000, 'Dnu': <Quantity 400.0 MHz>, 'FOV': <Quantity 134.0 deg2>, 'G': <Quantity 1.38 K / Jy>, 'np': 2, 'Ref': 'Chawla et al. 2017', 'Trec': <Quantity 50.0 K>, 'nu': <Quantity 600.0 MHz>}>"
      ]
     },
     "execution_count": 15,
     "metadata": {},
     "output_type": "execute_result"
    }
   ],
   "source": [
    "reload(fexp)\n",
    "chime = fexp.Experiment('CHIME')\n",
    "chime"
   ]
  },
  {
   "cell_type": "markdown",
   "metadata": {},
   "source": [
    "## S/N"
   ]
  },
  {
   "cell_type": "markdown",
   "metadata": {},
   "source": [
    "### Define FRB first"
   ]
  },
  {
   "cell_type": "code",
   "execution_count": 9,
   "metadata": {
    "collapsed": false
   },
   "outputs": [
    {
     "data": {
      "text/plain": [
       "<FRB: S=0.6 Jy nu_c=350.0 MHz, DM=500.0 pc / cm3>"
      ]
     },
     "execution_count": 9,
     "metadata": {},
     "output_type": "execute_result"
    }
   ],
   "source": [
    "frb1 = FRB(0.6*u.Jy, 350*u.MHz, 500 * u.pc/u.cm**3)\n",
    "frb1"
   ]
  },
  {
   "cell_type": "code",
   "execution_count": 11,
   "metadata": {
    "collapsed": true
   },
   "outputs": [],
   "source": [
    "frb1.set_width('Wi', 5e-3*u.s)"
   ]
  },
  {
   "cell_type": "markdown",
   "metadata": {},
   "source": [
    "### Calculate"
   ]
  },
  {
   "cell_type": "code",
   "execution_count": 16,
   "metadata": {
    "collapsed": false
   },
   "outputs": [
    {
     "data": {
      "text/latex": [
       "$0.18696485 \\; \\mathrm{}$"
      ],
      "text/plain": [
       "<Quantity 0.18696484841820205>"
      ]
     },
     "execution_count": 16,
     "metadata": {},
     "output_type": "execute_result"
    }
   ],
   "source": [
    "chime.signal_to_noise(frb1)"
   ]
  },
  {
   "cell_type": "markdown",
   "metadata": {},
   "source": [
    "## Testing on GBNCC"
   ]
  },
  {
   "cell_type": "code",
   "execution_count": 18,
   "metadata": {
    "collapsed": false
   },
   "outputs": [
    {
     "data": {
      "text/plain": [
       "<Experiment: name=GBNCC data={'Name': 'GBNCC', 'CreationDate': '2017-May-29', 'Channels': 4096, 'Dnu': <Quantity 100.0 MHz>, 'FOV': <Quantity 0.408 deg2>, 'G': <Quantity 2.0 K / Jy>, 'np': 2, 'Ref': 'Chawla et al. 2017', 'Trec': <Quantity 23.0 K>, 'nu': <Quantity 350.0 MHz>}>"
      ]
     },
     "execution_count": 18,
     "metadata": {},
     "output_type": "execute_result"
    }
   ],
   "source": [
    "reload(fexp)\n",
    "gbncc = fexp.Experiment('GBNCC')\n",
    "gbncc"
   ]
  },
  {
   "cell_type": "code",
   "execution_count": 19,
   "metadata": {
    "collapsed": false
   },
   "outputs": [
    {
     "data": {
      "text/latex": [
       "$0.3702923 \\; \\mathrm{}$"
      ],
      "text/plain": [
       "<Quantity 0.370292300243173>"
      ]
     },
     "execution_count": 19,
     "metadata": {},
     "output_type": "execute_result"
    }
   ],
   "source": [
    "gbncc.signal_to_noise(frb1)"
   ]
  },
  {
   "cell_type": "markdown",
   "metadata": {},
   "source": [
    "----"
   ]
  },
  {
   "cell_type": "markdown",
   "metadata": {},
   "source": [
    "## Testing"
   ]
  },
  {
   "cell_type": "code",
   "execution_count": 34,
   "metadata": {
    "collapsed": true
   },
   "outputs": [],
   "source": [
    "beta = 1.\n",
    "s2n = 3.  # Not specified by Chawla+17\n",
    "Trec = 23 * u.K\n",
    "Tsky = 44 * u.K\n",
    "Wi = 5e-3 * u.s\n",
    "DM  = 756.\n",
    "G = 2 * u.K / u.Jy\n",
    "n_p = 2\n",
    "nchan = 4096\n",
    "nu_c = 350 * u.MHz\n",
    "Dnu = 100 *u.MHz"
   ]
  },
  {
   "cell_type": "code",
   "execution_count": 40,
   "metadata": {
    "collapsed": false
   },
   "outputs": [
    {
     "data": {
      "text/latex": [
       "$0.00015319336 \\; \\mathrm{s}$"
      ],
      "text/plain": [
       "<Quantity 0.000153193359375 s>"
      ]
     },
     "execution_count": 40,
     "metadata": {},
     "output_type": "execute_result"
    }
   ],
   "source": [
    "tchan = 8.3e-6 * u.s * (100./nchan) * 1. * 756\n",
    "tchan"
   ]
  },
  {
   "cell_type": "code",
   "execution_count": 41,
   "metadata": {
    "collapsed": false
   },
   "outputs": [
    {
     "data": {
      "text/latex": [
       "$0.0050023463 \\; \\mathrm{s}$"
      ],
      "text/plain": [
       "<Quantity 0.005002346270037351 s>"
      ]
     },
     "execution_count": 41,
     "metadata": {},
     "output_type": "execute_result"
    }
   ],
   "source": [
    "Wb = np.sqrt(Wi**2 + tchan**2)  # Taking tsamp = 0. s\n",
    "Wb"
   ]
  },
  {
   "cell_type": "code",
   "execution_count": 42,
   "metadata": {
    "collapsed": false
   },
   "outputs": [],
   "source": [
    "sterm = np.sqrt(Wb/n_p/Dnu)"
   ]
  },
  {
   "cell_type": "code",
   "execution_count": 43,
   "metadata": {
    "collapsed": false
   },
   "outputs": [
    {
     "data": {
      "text/latex": [
       "$0.10052358 \\; \\mathrm{Jy}$"
      ],
      "text/plain": [
       "<Quantity 0.10052357724827023 Jy>"
      ]
     },
     "execution_count": 43,
     "metadata": {},
     "output_type": "execute_result"
    }
   ],
   "source": [
    "Smin = beta * s2n * (Trec + Tsky) /  (G*Wi) * sterm\n",
    "Smin.to('Jy')  # Close to the 0.6 Jy reported by Chawla+17 but not quite"
   ]
  },
  {
   "cell_type": "code",
   "execution_count": null,
   "metadata": {
    "collapsed": true
   },
   "outputs": [],
   "source": []
  }
 ],
 "metadata": {
  "kernelspec": {
   "display_name": "Python 3",
   "language": "python",
   "name": "python3"
  },
  "language_info": {
   "codemirror_mode": {
    "name": "ipython",
    "version": 3
   },
   "file_extension": ".py",
   "mimetype": "text/x-python",
   "name": "python",
   "nbconvert_exporter": "python",
   "pygments_lexer": "ipython3",
   "version": "3.6.1"
  }
 },
 "nbformat": 4,
 "nbformat_minor": 2
}
