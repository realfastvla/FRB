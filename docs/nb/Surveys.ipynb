{
 "cells": [
  {
   "cell_type": "markdown",
   "metadata": {},
   "source": [
    "# Slurp public photometry and spectroscopy at an FRB position\n",
    "    v1 - DES\n",
    "    v2 - FIRST\n",
    "    v3 - Datalab update"
   ]
  },
  {
   "cell_type": "code",
   "execution_count": 2,
   "metadata": {},
   "outputs": [
    {
     "name": "stdout",
     "output_type": "stream",
     "text": [
      "Warning: You need to install astroquery to use the survey tools...\n",
      "Warning: You need to install astroquery to use the survey tools...\n",
      "Warning:  You need FRB/pulsars installed to use PSRCat\n",
      "Warning:  You need astroquery installed to use the surveys from HEASARC\n"
     ]
    }
   ],
   "source": [
    "# imports\n",
    "from matplotlib import pyplot as plt\n",
    "\n",
    "from astropy.coordinates import SkyCoord\n",
    "from astropy import units\n",
    "from astropy.wcs import WCS\n",
    "from astropy.table import Table\n",
    "\n",
    "from frb.surveys import survey_utils"
   ]
  },
  {
   "cell_type": "markdown",
   "metadata": {},
   "source": [
    "## DES"
   ]
  },
  {
   "cell_type": "markdown",
   "metadata": {},
   "source": [
    "### Target"
   ]
  },
  {
   "cell_type": "code",
   "execution_count": 2,
   "metadata": {},
   "outputs": [],
   "source": [
    "coord = SkyCoord('J214425.25-403400.81', unit=(units.hourangle, units.deg))\n",
    "search_r = 10 * units.arcsec"
   ]
  },
  {
   "cell_type": "markdown",
   "metadata": {},
   "source": [
    "### Catalog"
   ]
  },
  {
   "cell_type": "code",
   "execution_count": 3,
   "metadata": {},
   "outputs": [
    {
     "name": "stdout",
     "output_type": "stream",
     "text": [
      "SELECT mag_auto_g, magerr_auto_g, mag_auto_r, magerr_auto_r, mag_auto_i, magerr_auto_i, mag_auto_z, magerr_auto_z, mag_auto_y, magerr_auto_y, coadd_object_id, ra, dec, tilename\n",
      "FROM des_dr1.main\n",
      "WHERE q3c_radial_query(ra,dec,326.105208,-40.566892,0.002778)\n",
      "Returning Pandas dataframe\n",
      "SELECT w1mpro, w1sigmpro, w2mpro, w2sigmpro, w3mpro, w3sigmpro, w4mpro, w4sigmpro, coadd_object_id, des_ra, des_dec, ra, dec\n",
      "FROM des_dr1.des_allwise\n",
      "WHERE q3c_radial_query(ra,dec,326.105208,-40.566892,0.002778)\n",
      "Returning Pandas dataframe\n"
     ]
    }
   ],
   "source": [
    "des_srvy = survey_utils.load_survey_by_name('DES', coord, search_r)\n",
    "des_tbl = des_srvy.get_catalog(print_query=True)"
   ]
  },
  {
   "cell_type": "code",
   "execution_count": 4,
   "metadata": {},
   "outputs": [
    {
     "data": {
      "text/html": [
       "<i>Table length=1</i>\n",
       "<table id=\"table140103567485976\" class=\"table-striped table-bordered table-condensed\">\n",
       "<thead><tr><th>DES_g</th><th>DES_g_err</th><th>DES_r</th><th>DES_r_err</th><th>DES_i</th><th>DES_i_err</th><th>DES_z</th><th>DES_z_err</th><th>DES_Y</th><th>DES_Y_err</th><th>DES_ID</th><th>ra</th><th>dec</th><th>DES_tile</th></tr></thead>\n",
       "<thead><tr><th>float64</th><th>float64</th><th>float64</th><th>float64</th><th>float64</th><th>float64</th><th>float64</th><th>float64</th><th>float64</th><th>float64</th><th>int64</th><th>float64</th><th>float64</th><th>str12</th></tr></thead>\n",
       "<tr><td>23.9905</td><td>0.194438</td><td>22.3105</td><td>0.0595304</td><td>20.9695</td><td>0.029651599999999997</td><td>20.4385</td><td>0.0391535</td><td>20.292</td><td>0.100701</td><td>209895628</td><td>326.105565</td><td>-40.569421999999996</td><td>DES2143-4040</td></tr>\n",
       "</table>"
      ],
      "text/plain": [
       "<Table length=1>\n",
       " DES_g  DES_g_err  DES_r  ...     ra             dec           DES_tile  \n",
       "float64  float64  float64 ...  float64         float64          str12    \n",
       "------- --------- ------- ... ---------- ------------------- ------------\n",
       "23.9905  0.194438 22.3105 ... 326.105565 -40.569421999999996 DES2143-4040"
      ]
     },
     "execution_count": 4,
     "metadata": {},
     "output_type": "execute_result"
    }
   ],
   "source": [
    "des_tbl"
   ]
  },
  {
   "cell_type": "markdown",
   "metadata": {},
   "source": [
    "### Cut-out"
   ]
  },
  {
   "cell_type": "code",
   "execution_count": 5,
   "metadata": {},
   "outputs": [],
   "source": [
    "cutout, cutout_hdr = des_srvy.get_cutout(search_r, band='r')"
   ]
  },
  {
   "cell_type": "code",
   "execution_count": 6,
   "metadata": {},
   "outputs": [
    {
     "name": "stderr",
     "output_type": "stream",
     "text": [
      "WARNING: FITSFixedWarning: 'datfix' made the change 'Changed '' to '2014-10-21T03:12:45.272''. [astropy.wcs.wcs]\n"
     ]
    }
   ],
   "source": [
    "wcs = WCS(des_srvy.cutout_hdr)"
   ]
  },
  {
   "cell_type": "code",
   "execution_count": 7,
   "metadata": {},
   "outputs": [
    {
     "data": {
      "image/png": "[encoded data removed]",
      "text/plain": [
       "<matplotlib.figure.Figure at 0x7f6c66d47048>"
      ]
     },
     "metadata": {},
     "output_type": "display_data"
    }
   ],
   "source": [
    "plt.clf()\n",
    "plt.subplot(projection=wcs)\n",
    "plt.imshow(cutout, origin='lower')\n",
    "plt.show()"
   ]
  },
  {
   "cell_type": "markdown",
   "metadata": {},
   "source": [
    "## FIRST"
   ]
  },
  {
   "cell_type": "code",
   "execution_count": 9,
   "metadata": {},
   "outputs": [],
   "source": [
    "coord2 = SkyCoord('J081240.68+320809', unit=(units.hourangle, units.deg))\n",
    "search_r = 10 * units.arcsec"
   ]
  },
  {
   "cell_type": "code",
   "execution_count": 10,
   "metadata": {},
   "outputs": [],
   "source": [
    "first_srvy = survey_utils.load_survey_by_name('FIRST', coord2, search_r)\n",
    "first_tbl = first_srvy.get_catalog()"
   ]
  },
  {
   "cell_type": "code",
   "execution_count": 11,
   "metadata": {},
   "outputs": [
    {
     "data": {
      "text/html": [
       "<i>Table length=1</i>\n",
       "<table id=\"table140104155982312\" class=\"table-striped table-bordered table-condensed\">\n",
       "<thead><tr><th>NAME</th><th>ra</th><th>dec</th><th>FLUX_20_CM</th><th>FLUX_20_CM_ERROR</th><th>INT_FLUX_20_CM</th><th>SIDELOBE_PROB</th><th>TWOMASS_FIRST_OFFSET</th><th>TWOMASS_KMAG</th><th>SEARCH_OFFSET_</th><th>separation</th></tr></thead>\n",
       "<thead><tr><th></th><th>deg</th><th>deg</th><th>MJY</th><th>MJY</th><th>MJY</th><th></th><th>ARCSEC</th><th>MAG</th><th></th><th>arcmin</th></tr></thead>\n",
       "<thead><tr><th>bytes22</th><th>float64</th><th>float64</th><th>float64</th><th>float64</th><th>float64</th><th>float64</th><th>float64</th><th>float64</th><th>bytes46</th><th>float64</th></tr></thead>\n",
       "<tr><td>FIRST J081240.6+320808</td><td>123.169512</td><td>32.135697</td><td>18.32</td><td>0.146</td><td>18.40</td><td>0.014</td><td>0.31</td><td>15.31</td><td>0.008 (123.16950579044646,32.135827323283664)</td><td>0.008202689831452928</td></tr>\n",
       "</table>"
      ],
      "text/plain": [
       "<Table length=1>\n",
       "         NAME              ra     ...      separation     \n",
       "                          deg     ...        arcmin       \n",
       "       bytes22          float64   ...       float64       \n",
       "---------------------- ---------- ... --------------------\n",
       "FIRST J081240.6+320808 123.169512 ... 0.008202689831452928"
      ]
     },
     "execution_count": 11,
     "metadata": {},
     "output_type": "execute_result"
    }
   ],
   "source": [
    "first_tbl"
   ]
  },
  {
   "cell_type": "markdown",
   "metadata": {},
   "source": [
    "## DECals"
   ]
  },
  {
   "cell_type": "code",
   "execution_count": 12,
   "metadata": {},
   "outputs": [
    {
     "name": "stdout",
     "output_type": "stream",
     "text": [
      "Returning Pandas dataframe\n"
     ]
    }
   ],
   "source": [
    "dec_srvy = survey_utils.load_survey_by_name('DECaL', coord2, search_r)\n",
    "dec_tbl = dec_srvy.get_catalog()"
   ]
  },
  {
   "cell_type": "code",
   "execution_count": 13,
   "metadata": {},
   "outputs": [
    {
     "data": {
      "text/html": [
       "<i>Table masked=True length=2</i>\n",
       "<table id=\"table140103548723152\" class=\"table-striped table-bordered table-condensed\">\n",
       "<thead><tr><th>DECaL_ID</th><th>brick_primary</th><th>DECaL_brick</th><th>ra</th><th>dec</th><th>DECaL_g</th><th>DECaL_r</th><th>DECaL_z</th><th>DECaL_W1</th><th>DECaL_W2</th><th>DECaL_W3</th><th>DECaL_W4</th><th>snr_g</th><th>snr_r</th><th>snr_z</th><th>snr_w1</th><th>snr_w2</th><th>snr_w3</th><th>snr_w4</th></tr></thead>\n",
       "<thead><tr><th>int64</th><th>int64</th><th>int64</th><th>float64</th><th>float64</th><th>float64</th><th>float64</th><th>float64</th><th>float64</th><th>float64</th><th>float64</th><th>float64</th><th>float64</th><th>float64</th><th>float64</th><th>float64</th><th>float64</th><th>float64</th><th>float64</th></tr></thead>\n",
       "<tr><td>7696614636322962</td><td>1</td><td>507231</td><td>123.167713619484</td><td>32.134174062069604</td><td>20.6186</td><td>19.535</td><td>18.9672</td><td>20.2099</td><td>20.48</td><td>21.3003</td><td>--</td><td>149.126</td><td>135.514</td><td>138.435</td><td>13.3685</td><td>4.57341</td><td>0.092629</td><td>-0.8989540000000001</td></tr>\n",
       "<tr><td>7696614636322963</td><td>1</td><td>507231</td><td>123.169525538404</td><td>32.1357157995354</td><td>17.8242</td><td>17.4195</td><td>17.0851</td><td>17.0561</td><td>16.8557</td><td>15.5268</td><td>14.7015</td><td>763.3380000000001</td><td>536.565</td><td>627.393</td><td>244.87</td><td>128.44899999999998</td><td>18.8387</td><td>5.95385</td></tr>\n",
       "</table>"
      ],
      "text/plain": [
       "<Table masked=True length=2>\n",
       "    DECaL_ID     brick_primary DECaL_brick ...  snr_w3         snr_w4      \n",
       "     int64           int64        int64    ... float64        float64      \n",
       "---------------- ------------- ----------- ... -------- -------------------\n",
       "7696614636322962             1      507231 ... 0.092629 -0.8989540000000001\n",
       "7696614636322963             1      507231 ...  18.8387             5.95385"
      ]
     },
     "execution_count": 13,
     "metadata": {},
     "output_type": "execute_result"
    }
   ],
   "source": [
    "dec_tbl"
   ]
  },
  {
   "cell_type": "markdown",
   "metadata": {},
   "source": [
    "----"
   ]
  },
  {
   "cell_type": "markdown",
   "metadata": {},
   "source": [
    "## Testing"
   ]
  },
  {
   "cell_type": "code",
   "execution_count": 1,
   "metadata": {},
   "outputs": [],
   "source": [
    "tmp = 'mag_auto_g,magerr_auto_g,mag_auto_r,magerr_auto_r,mag_auto_i,magerr_auto_i,mag_auto_z,magerr_auto_z,mag_auto_y,magerr_auto_y,coadd_object_id,ra,dec,tilename\\n23.9905,0.194438,22.3105,0.0595304,20.9695,0.0296516,20.4385,0.0391535,20.292,0.100701,209895628,326.105565,-40.569422,DES2143-4040\\n'"
   ]
  },
  {
   "cell_type": "code",
   "execution_count": null,
   "metadata": {},
   "outputs": [],
   "source": []
  }
 ],
 "metadata": {
  "kernelspec": {
   "display_name": "Python 3",
   "language": "python",
   "name": "python3"
  },
  "language_info": {
   "codemirror_mode": {
    "name": "ipython",
    "version": 3
   },
   "file_extension": ".py",
   "mimetype": "text/x-python",
   "name": "python",
   "nbconvert_exporter": "python",
   "pygments_lexer": "ipython3",
   "version": "3.7.1"
  }
 },
 "nbformat": 4,
 "nbformat_minor": 2
}
